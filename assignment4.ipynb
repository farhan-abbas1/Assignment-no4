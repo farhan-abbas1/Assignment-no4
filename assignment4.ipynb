{
 "cells": [
  {
   "cell_type": "code",
   "execution_count": 3,
   "metadata": {},
   "outputs": [
    {
     "name": "stdout",
     "output_type": "stream",
     "text": [
      "Ali\n",
      "Hassan\n",
      "Farhan\n"
     ]
    }
   ],
   "source": [
    "#list of friends name\n",
    "names = [\"Ali\",\"Hassan\",\"Farhan\",]\n",
    "print(names[0])\n",
    "print(names[1])\n",
    "print(names[2])"
   ]
  },
  {
   "cell_type": "code",
   "execution_count": 33,
   "metadata": {},
   "outputs": [
    {
     "name": "stdout",
     "output_type": "stream",
     "text": [
      "Hi Ali, I hope you're doing well!\n",
      "Hi Hassan, I hope you're doing well!\n",
      "Hi Farhan, I hope you're doing well!\n"
     ]
    }
   ],
   "source": [
    "#Greeting Messages\n",
    "names = [\"Ali\", \"Hassan\", \"Farhan\"]\n",
    "for item in names:\n",
    "   print(f\"Hi {item}, I hope you're doing well!\")"
   ]
  },
  {
   "cell_type": "code",
   "execution_count": 36,
   "metadata": {},
   "outputs": [
    {
     "name": "stdout",
     "output_type": "stream",
     "text": [
      "I would like to own a Civic car.\n",
      "I would like to own a Mecleran car.\n",
      "I would like to own a Audi car.\n"
     ]
    }
   ],
   "source": [
    "#Your Own List\n",
    "cars = [\"Civic\", \"Mecleran\", \"Audi\"]\n",
    "for item in cars:\n",
    "    print(f\"I would like to own a {item} car.\")"
   ]
  },
  {
   "cell_type": "code",
   "execution_count": 62,
   "metadata": {},
   "outputs": [
    {
     "name": "stdout",
     "output_type": "stream",
     "text": [
      "Dear Ali, you are cordially invited to dinner at my place!\n",
      "Dear Hassan, you are cordially invited to dinner at my place!\n",
      "Dear Huzaifa, you are cordially invited to dinner at my place!\n"
     ]
    }
   ],
   "source": [
    "#Guests List\n",
    "guests = [\"Ali\", \"Hassan\", \"Huzaifa\"]\n",
    "for item in guests:\n",
    "    print(f\"Dear {item}, you are cordially invited to dinner at my place!\")\n"
   ]
  },
  {
   "cell_type": "code",
   "execution_count": 64,
   "metadata": {},
   "outputs": [
    {
     "name": "stdout",
     "output_type": "stream",
     "text": [
      "Dear Ali, you are cordially invited to dinner at my place!\n",
      "Dear Hassan, you are cordially invited to dinner at my place!\n",
      "Dear Huzaifa, you are cordially invited to dinner at my place!\n",
      "Unfortunately, Huzaifa can't make it to dinner.\n",
      "Updated invitations:\n",
      "Dear Ali, you are cordially invited to dinner at my place!\n",
      "Dear Hassan, you are cordially invited to dinner at my place!\n",
      "Dear Ahmad, you are cordially invited to dinner at my place!\n"
     ]
    }
   ],
   "source": [
    "#Changing Guests List\n",
    "guests = [\"Ali\", \"Hassan\", \"Huzaifa\"]\n",
    "for item in guests:\n",
    "    print(f\"Dear {item}, you are cordially invited to dinner at my place!\")\n",
    "\n",
    "guest_cant_attend = \"Huzaifa\"\n",
    "print(f\"Unfortunately, {guest_cant_attend} can't make it to dinner.\")\n",
    "\n",
    "guests[guests.index(guest_cant_attend)] = \"Ahmad\"\n",
    "\n",
    "print(\"Updated invitations:\")\n",
    "for item in guests:\n",
    "    print(f\"Dear {item}, you are cordially invited to dinner at my place!\")\n"
   ]
  },
  {
   "cell_type": "code",
   "execution_count": 68,
   "metadata": {},
   "outputs": [
    {
     "name": "stdout",
     "output_type": "stream",
     "text": [
      "Updated invitation:\n",
      "Dear Saim, you are cordially invited to dinner at my place!\n",
      "Dear Mazhar, you are cordially invited to dinner at my place!\n",
      "Dear Ali, you are cordially invited to dinner at my place!\n",
      "Dear Hassan, you are cordially invited to dinner at my place!\n",
      "Dear Huzaifa, you are cordially invited to dinner at my place!\n",
      "Dear Khizar, you are cordially invited to dinner at my place!\n"
     ]
    }
   ],
   "source": [
    "#Add More Guests\n",
    "guests = [\"Ali\", \"Hassan\", \"Huzaifa\"]\n",
    "\n",
    "guests.insert(0, \"Saim\")\n",
    "guests.insert(1, \"Mazhar\")\n",
    "guests.append(\"Khizar\")\n",
    "\n",
    "print(\"Updated invitation:\")\n",
    "for item in guests:\n",
    "    print(f\"Dear {item}, you are cordially invited to dinner at my place!\")\n"
   ]
  },
  {
   "cell_type": "code",
   "execution_count": 72,
   "metadata": {},
   "outputs": [
    {
     "name": "stdout",
     "output_type": "stream",
     "text": [
      "Unfortunately, I can only invite two people for dinner.\n",
      "Sorry, Khizar, I can't invite you to dinner.\n",
      "Sorry, Mazhar, I can't invite you to dinner.\n",
      "Sorry, Saim, I can't invite you to dinner.\n",
      "Sorry, Huzaifa, I can't invite you to dinner.\n",
      "Ali, you are still invited to dinner.\n",
      "Hassan, you are still invited to dinner.\n",
      "Final guest list: []\n"
     ]
    }
   ],
   "source": [
    "#Shrinking Guest List\n",
    "guests = [\"Ali\", \"Hassan\", \"Huzaifa\", \"Saim\", \"Mazhar\", \"Khizar\"]\n",
    "\n",
    "print(\"Unfortunately, I can only invite two people for dinner.\")\n",
    "while len(guests) > 2:\n",
    "    removed_guest = guests.pop()\n",
    "    print(f\"Sorry, {removed_guest}, I can't invite you to dinner.\")\n",
    "for item in guests:\n",
    "    print(f\"{item}, you are still invited to dinner.\")\n",
    "\n",
    "del guests[0:2]\n",
    "print(f\"Final guest list: {guests}\")"
   ]
  },
  {
   "cell_type": "code",
   "execution_count": 31,
   "metadata": {},
   "outputs": [
    {
     "name": "stdout",
     "output_type": "stream",
     "text": [
      "\n",
      "Original Order:\n",
      " ['Oman', 'Saudia', 'America', 'Pakistan', 'Iran']\n",
      "\n",
      "Alphabetical Order:\n",
      " ['America', 'Iran', 'Oman', 'Pakistan', 'Saudia']\n",
      "\n",
      "Original Order:\n",
      " ['Oman', 'Saudia', 'America', 'Pakistan', 'Iran']\n",
      "\n",
      "Reverse Alphabetical Order:\n",
      " ['Saudia', 'Pakistan', 'Oman', 'Iran', 'America']\n",
      "\n",
      "Original Order:\n",
      " ['Oman', 'Saudia', 'America', 'Pakistan', 'Iran']\n",
      "\n",
      "Reversed Order:\n",
      " ['Iran', 'Pakistan', 'America', 'Saudia', 'Oman']\n",
      "\n",
      "Original Order:\n",
      " ['Iran', 'Pakistan', 'America', 'Saudia', 'Oman']\n",
      "\n",
      "Alphabetical Order:\n",
      " ['America', 'Iran', 'Oman', 'Pakistan', 'Saudia']\n",
      "\n",
      "Reverse Order:\n",
      " ['Saudia', 'Pakistan', 'Oman', 'Iran', 'America']\n"
     ]
    }
   ],
   "source": [
    "#Seeing the World\n",
    "locations = [ \"Oman\", \"Saudia\", \"America\", \"Pakistan\", \"Iran\"]\n",
    "print(\"\\nOriginal Order:\\n\",locations)\n",
    "\n",
    "print(\"\\nAlphabetical Order:\\n\", sorted(locations))\n",
    "print(\"\\nOriginal Order:\\n\", locations)\n",
    "\n",
    "print(\"\\nReverse Alphabetical Order:\\n\", sorted(locations,reverse=True))\n",
    "print(\"\\nOriginal Order:\\n\", locations)\n",
    "\n",
    "locations.reverse()\n",
    "print(\"\\nReversed Order:\\n\", locations)\n",
    "print(\"\\nOriginal Order:\\n\", locations)\n",
    "\n",
    "locations.sort()\n",
    "print(\"\\nAlphabetical Order:\\n\",locations)\n",
    "\n",
    "locations.sort(reverse=sorted)\n",
    "print(\"\\nReverse Order:\\n\",locations)"
   ]
  },
  {
   "cell_type": "code",
   "execution_count": 34,
   "metadata": {},
   "outputs": [
    {
     "data": {
      "text/plain": [
       "6"
      ]
     },
     "execution_count": 34,
     "metadata": {},
     "output_type": "execute_result"
    }
   ],
   "source": [
    "#Length of Dinner Guests\n",
    "guests = [\"Ali\", \"Hassan\", \"Huzaifa\", \"Saim\", \"Mazhar\", \"Khizar\"]\n",
    "len(guests)"
   ]
  },
  {
   "cell_type": "code",
   "execution_count": 111,
   "metadata": {},
   "outputs": [
    {
     "name": "stdout",
     "output_type": "stream",
     "text": [
      "After Append: ['Dubai', 'America', 'Saudia', 'Itli', 'Iran', 'Iraq']\n",
      "Original list before append: ['Dubai', 'America', 'Saudia', 'Itli', 'Iran', 'Iraq']\n",
      "After Insert: ['Dubai', 'America', 'Mailsi', 'Saudia', 'Itli', 'Iran', 'Iraq']\n",
      "Original list before insert: ['Dubai', 'America', 'Mailsi', 'Saudia', 'Itli', 'Iran', 'Iraq']\n",
      "After Pop ['Dubai', 'America', 'Mailsi', 'Saudia', 'Itli', 'Iran']\n",
      "Original list before pop: ['Dubai', 'America', 'Mailsi', 'Saudia', 'Itli', 'Iran']\n",
      "After Remove: ['Dubai', 'America', 'Mailsi', 'Itli', 'Iran']\n",
      "Original list before remove: ['Dubai', 'America', 'Mailsi', 'Itli', 'Iran']\n",
      "After Sorted: ['America', 'Dubai', 'Iran', 'Itli', 'Mailsi']\n",
      "Original List before sorted: ['Dubai', 'America', 'Mailsi', 'Itli', 'Iran']\n",
      "After Reverse: ['Iran', 'Itli', 'Mailsi', 'America', 'Dubai']\n",
      "After Sort: ['America', 'Dubai', 'Iran', 'Itli', 'Mailsi']\n",
      "'Mailsi' is in the list: True\n"
     ]
    }
   ],
   "source": [
    "#All Functions Use In This List\n",
    "list = [\"Dubai\", \"America\", \"Saudia\", \"Itli\", \"Iran\"]\n",
    "\n",
    "list.append(\"Iraq\")\n",
    "print(\"After Append:\",list)\n",
    "print(\"Original list before append:\",list)\n",
    "\n",
    "list.insert(2,\"Mailsi\")\n",
    "print(\"After Insert:\",list)\n",
    "print(\"Original list before insert:\",list)\n",
    "\n",
    "list.pop()\n",
    "print(\"After Pop\",list)\n",
    "print(\"Original list before pop:\",list)\n",
    "\n",
    "list.remove(\"Saudia\")\n",
    "print(\"After Remove:\",list)\n",
    "print(\"Original list before remove:\",list)\n",
    "\n",
    "print(\"After Sorted:\",sorted(list))\n",
    "print(\"Original List before sorted:\",list)\n",
    "\n",
    "list.reverse()\n",
    "print(\"After Reverse:\",list)\n",
    "\n",
    "list.sort()\n",
    "print(\"After Sort:\",list)\n",
    "\n",
    "list.index(\"Iran\")\n",
    "\n",
    "present = \"Mailsi\" in list\n",
    "print(\"'Mailsi' is in the list:\", present)"
   ]
  }
 ],
 "metadata": {
  "kernelspec": {
   "display_name": "Python 3",
   "language": "python",
   "name": "python3"
  },
  "language_info": {
   "codemirror_mode": {
    "name": "ipython",
    "version": 3
   },
   "file_extension": ".py",
   "mimetype": "text/x-python",
   "name": "python",
   "nbconvert_exporter": "python",
   "pygments_lexer": "ipython3",
   "version": "3.13.1"
  }
 },
 "nbformat": 4,
 "nbformat_minor": 2
}
